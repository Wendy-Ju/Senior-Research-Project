{
 "cells": [
  {
   "cell_type": "code",
   "execution_count": 1,
   "id": "ffb6f3e0",
   "metadata": {},
   "outputs": [],
   "source": [
    "import os\n",
    "import zipfile\n",
    "import numpy as np\n",
    "import tensorflow as tf\n",
    "\n",
    "from tensorflow import keras\n",
    "from tensorflow.keras import layers\n",
    "import matplotlib.pyplot as plt\n",
    "import seaborn as sns\n",
    "import pydicom\n",
    "from pydicom.pixel_data_handlers.util import apply_voi_lut\n",
    "\n",
    "import sys \n",
    "import json\n",
    "import glob\n",
    "import random\n",
    "import collections\n",
    "import time\n",
    "import re\n",
    "import math\n",
    "import numpy as np\n",
    "import pandas as pd\n",
    "import cv2"
   ]
  },
  {
   "cell_type": "markdown",
   "id": "9fe9cf8f",
   "metadata": {},
   "source": [
    "### Load data"
   ]
  },
  {
   "cell_type": "code",
   "execution_count": 2,
   "id": "2c8878bc",
   "metadata": {},
   "outputs": [],
   "source": [
    "# Lets read the train data and the train labels. \n",
    "train_data_directory = 'D:/Brain_Tumor_Data/train'\n",
    "data_directory = 'D:/Brain_Tumor_Data'\n",
    "IMAGE_SIZE = 128\n",
    "NUM_IMAGES = 64\n",
    "def load_dicom_image(path, img_size=IMAGE_SIZE, voi_lut=True, rotate=0):\n",
    "    dicom = pydicom.read_file(path)\n",
    "    data = dicom.pixel_array\n",
    "    if voi_lut:\n",
    "        data = apply_voi_lut(dicom.pixel_array, dicom)\n",
    "    else:\n",
    "        data = dicom.pixel_array\n",
    "        \n",
    "    if rotate > 0:\n",
    "        rot_choices = [0, cv2.ROTATE_90_CLOCKWISE, cv2.ROTATE_90_COUNTERCLOCKWISE, cv2.ROTATE_180]\n",
    "        data = cv2.rotate(data, rot_choices[rotate])\n",
    "        \n",
    "    data = cv2.resize(data, (img_size, img_size))\n",
    "    return data\n",
    "\n",
    "\n",
    "def load_dicom_images_3d(scan_id, num_imgs=NUM_IMAGES, img_size=IMAGE_SIZE, mri_type=\"T2w\", split=\"test\", rotate=0):\n",
    "\n",
    "    files = sorted(glob.glob(f\"{data_directory}/{split}/{scan_id}/{mri_type}/*.dcm\"), \n",
    "               key=lambda var:[int(x) if x.isdigit() else x for x in re.findall(r'[^0-9]|[0-9]+', var)])\n",
    "\n",
    "    middle = len(files)//2\n",
    "    num_imgs2 = num_imgs//2\n",
    "    p1 = max(0, middle - num_imgs2)\n",
    "    p2 = min(len(files), middle + num_imgs2)\n",
    "    img3d = np.stack([load_dicom_image(f, rotate=rotate) for f in files[p1:p2]]).T \n",
    "    if img3d.shape[-1] < num_imgs:\n",
    "        n_zero = np.zeros((img_size, img_size, num_imgs - img3d.shape[-1]))\n",
    "        img3d = np.concatenate((img3d,  n_zero), axis = -1)\n",
    "        \n",
    "    if np.min(img3d) < np.max(img3d):\n",
    "        img3d = img3d - np.min(img3d)\n",
    "        img3d = img3d / np.max(img3d)\n",
    "            \n",
    "    return np.expand_dims(img3d,0)"
   ]
  },
  {
   "cell_type": "code",
   "execution_count": 3,
   "id": "4854faba",
   "metadata": {},
   "outputs": [
    {
     "name": "stdout",
     "output_type": "stream",
     "text": [
      "(1, 128, 128, 64)\n",
      "0.0 1.0 0.037549784895224834 0.0\n",
      "Dimension of the CT scan is: (128, 128, 64)\n"
     ]
    },
    {
     "data": {
      "text/plain": [
       "<matplotlib.image.AxesImage at 0x2c4cce04c10>"
      ]
     },
     "execution_count": 3,
     "metadata": {},
     "output_type": "execute_result"
    },
    {
     "data": {
      "image/png": "[encoded data removed]",
      "text/plain": [
       "<Figure size 640x480 with 1 Axes>"
      ]
     },
     "metadata": {},
     "output_type": "display_data"
    }
   ],
   "source": [
    "a = load_dicom_images_3d(\"00001\")\n",
    "print(a.shape)\n",
    "print(np.min(a), np.max(a), np.mean(a), np.median(a))\n",
    "image = a[0]\n",
    "print(\"Dimension of the CT scan is:\", image.shape)\n",
    "plt.imshow(np.squeeze(image[:, :, 15]), cmap=\"gray\")"
   ]
  },
  {
   "cell_type": "code",
   "execution_count": 4,
   "id": "aeb5c089",
   "metadata": {},
   "outputs": [
    {
     "data": {
      "text/html": [
       "<div>\n",
       "<style scoped>\n",
       "    .dataframe tbody tr th:only-of-type {\n",
       "        vertical-align: middle;\n",
       "    }\n",
       "\n",
       "    .dataframe tbody tr th {\n",
       "        vertical-align: top;\n",
       "    }\n",
       "\n",
       "    .dataframe thead th {\n",
       "        text-align: right;\n",
       "    }\n",
       "</style>\n",
       "<table border=\"1\" class=\"dataframe\">\n",
       "  <thead>\n",
       "    <tr style=\"text-align: right;\">\n",
       "      <th></th>\n",
       "      <th>BraTS21ID</th>\n",
       "      <th>MGMT_value</th>\n",
       "    </tr>\n",
       "  </thead>\n",
       "  <tbody>\n",
       "    <tr>\n",
       "      <th>0</th>\n",
       "      <td>0</td>\n",
       "      <td>1</td>\n",
       "    </tr>\n",
       "    <tr>\n",
       "      <th>1</th>\n",
       "      <td>2</td>\n",
       "      <td>1</td>\n",
       "    </tr>\n",
       "    <tr>\n",
       "      <th>2</th>\n",
       "      <td>3</td>\n",
       "      <td>0</td>\n",
       "    </tr>\n",
       "    <tr>\n",
       "      <th>3</th>\n",
       "      <td>5</td>\n",
       "      <td>1</td>\n",
       "    </tr>\n",
       "    <tr>\n",
       "      <th>4</th>\n",
       "      <td>6</td>\n",
       "      <td>1</td>\n",
       "    </tr>\n",
       "  </tbody>\n",
       "</table>\n",
       "</div>"
      ],
      "text/plain": [
       "   BraTS21ID  MGMT_value\n",
       "0          0           1\n",
       "1          2           1\n",
       "2          3           0\n",
       "3          5           1\n",
       "4          6           1"
      ]
     },
     "execution_count": 4,
     "metadata": {},
     "output_type": "execute_result"
    }
   ],
   "source": [
    "df_train_labels = pd.read_csv('D:/Brain_Tumor_Data/_labels.csv')\n",
    "df_train_labels.head()"
   ]
  },
  {
   "cell_type": "code",
   "execution_count": 5,
   "id": "765e7711",
   "metadata": {},
   "outputs": [
    {
     "name": "stdout",
     "output_type": "stream",
     "text": [
      "00000 01010\n"
     ]
    }
   ],
   "source": [
    "train_data_directory = 'D:/Brain_Tumor_Data/train'\n",
    "print(min(os.listdir(train_data_directory)), max(os.listdir(train_data_directory)))"
   ]
  },
  {
   "cell_type": "code",
   "execution_count": 6,
   "id": "8554384b",
   "metadata": {},
   "outputs": [],
   "source": [
    "total_training_scans_T2 = np.array([load_dicom_images_3d(a, split = 'train', mri_type=\"T2w\") for a in os.listdir(train_data_directory)])"
   ]
  },
  {
   "cell_type": "code",
   "execution_count": 7,
   "id": "a0eeac61",
   "metadata": {},
   "outputs": [
    {
     "data": {
      "text/plain": [
       "585"
      ]
     },
     "execution_count": 7,
     "metadata": {},
     "output_type": "execute_result"
    }
   ],
   "source": [
    "len(total_training_scans_T2)"
   ]
  },
  {
   "cell_type": "code",
   "execution_count": 8,
   "id": "6ad814de",
   "metadata": {},
   "outputs": [
    {
     "name": "stdout",
     "output_type": "stream",
     "text": [
      "(585, 1, 128, 128, 64)\n",
      "585\n",
      "Dimension of the CT scan is: (1, 128, 128, 64)\n"
     ]
    },
    {
     "data": {
      "text/plain": [
       "<matplotlib.image.AxesImage at 0x2c4cceaae80>"
      ]
     },
     "execution_count": 8,
     "metadata": {},
     "output_type": "execute_result"
    },
    {
     "data": {
      "image/png": "[encoded data removed]",
      "text/plain": [
       "<Figure size 640x480 with 1 Axes>"
      ]
     },
     "metadata": {},
     "output_type": "display_data"
    }
   ],
   "source": [
    "print(total_training_scans_T2.shape)\n",
    "print(len(total_training_scans_T2))\n",
    "image = total_training_scans_T2[20]\n",
    "print(\"Dimension of the CT scan is:\", image.shape)\n",
    "plt.imshow(np.squeeze(image[:, :, 25]), cmap=\"gray\")"
   ]
  },
  {
   "cell_type": "code",
   "execution_count": 9,
   "id": "84d31146",
   "metadata": {},
   "outputs": [],
   "source": [
    "# Split data in the ratio 70-30 for training and validation.\n",
    "x_train_T2 = np.array([train.T for train in total_training_scans_T2[:410]])\n",
    "x_val_T2 = np.array([train.T for train in total_training_scans_T2[410:]])"
   ]
  },
  {
   "cell_type": "code",
   "execution_count": 10,
   "id": "a5425cb7",
   "metadata": {},
   "outputs": [
    {
     "name": "stdout",
     "output_type": "stream",
     "text": [
      "The shape of train: (410, 64, 128, 128, 1)\n"
     ]
    }
   ],
   "source": [
    "print(f\"The shape of train: {x_train_T2.shape}\")"
   ]
  },
  {
   "cell_type": "code",
   "execution_count": 11,
   "id": "78d67578",
   "metadata": {},
   "outputs": [
    {
     "name": "stdout",
     "output_type": "stream",
     "text": [
      "The shape of val: (175, 64, 128, 128, 1)\n"
     ]
    }
   ],
   "source": [
    "print(f\"The shape of val: {x_val_T2.shape}\")"
   ]
  },
  {
   "cell_type": "code",
   "execution_count": 12,
   "id": "c8dee732",
   "metadata": {},
   "outputs": [],
   "source": [
    "total_training_labels = df_train_labels[\"MGMT_value\"].to_list()"
   ]
  },
  {
   "cell_type": "code",
   "execution_count": 13,
   "id": "d95a6a80",
   "metadata": {},
   "outputs": [],
   "source": [
    "total_training_labels = total_training_labels[:585]"
   ]
  },
  {
   "cell_type": "code",
   "execution_count": 14,
   "id": "8832f6dd",
   "metadata": {},
   "outputs": [
    {
     "data": {
      "text/plain": [
       "585"
      ]
     },
     "execution_count": 14,
     "metadata": {},
     "output_type": "execute_result"
    }
   ],
   "source": [
    "len(total_training_labels)"
   ]
  },
  {
   "cell_type": "code",
   "execution_count": 15,
   "id": "01d4eaaf",
   "metadata": {},
   "outputs": [],
   "source": [
    "y_train = total_training_labels[:410]\n",
    "y_val = total_training_labels[410:]"
   ]
  },
  {
   "cell_type": "markdown",
   "id": "992d1bff",
   "metadata": {},
   "source": [
    "### Model"
   ]
  },
  {
   "cell_type": "code",
   "execution_count": 16,
   "id": "4d36f7c6",
   "metadata": {},
   "outputs": [],
   "source": [
    "data_augmentation = keras.Sequential(\n",
    "    [\n",
    "        layers.RandomFlip(\"horizontal\"),\n",
    "        layers.RandomRotation(0.1),\n",
    "        layers.RandomZoom(0.2)\n",
    "    ]\n",
    ")"
   ]
  },
  {
   "cell_type": "code",
   "execution_count": 17,
   "id": "791046a6",
   "metadata": {},
   "outputs": [],
   "source": [
    "def get_model(drop_out, with_data_aug, width=128, height=128, depth=64):\n",
    "    \"\"\"Build a 3D convolutional neural network model.\"\"\"\n",
    "\n",
    "    inputs = keras.Input((depth,width, height,1))\n",
    "    if (with_data_aug):\n",
    "        x = data_augmentation(inputs)\n",
    "\n",
    "    x = layers.Conv3D(filters=64, kernel_size=3, activation=\"relu\")(inputs)\n",
    "    x = layers.MaxPool3D(pool_size=2)(x)\n",
    "    x = layers.BatchNormalization()(x)\n",
    "\n",
    "    x = layers.Conv3D(filters=64, kernel_size=3, activation=\"relu\")(x)\n",
    "    x = layers.MaxPool3D(pool_size=2)(x)\n",
    "    x = layers.BatchNormalization()(x)\n",
    "\n",
    "    x = layers.Conv3D(filters=128, kernel_size=3, activation=\"relu\")(x)\n",
    "    x = layers.MaxPool3D(pool_size=2)(x)\n",
    "    x = layers.BatchNormalization()(x)\n",
    "\n",
    "    x = layers.Conv3D(filters=256, kernel_size=3, activation=\"relu\")(x)\n",
    "    x = layers.MaxPool3D(pool_size=2)(x)\n",
    "    x = layers.BatchNormalization()(x)\n",
    "\n",
    "    x = layers.GlobalAveragePooling3D()(x)\n",
    "    x = layers.Dense(units=512, activation=\"relu\")(x)\n",
    "    x = layers.Dropout(drop_out)(x)\n",
    "\n",
    "    outputs = layers.Dense(units=1, activation=\"sigmoid\")(x)\n",
    "\n",
    "    # Define the model.\n",
    "    model = keras.Model(inputs, outputs, name=\"3dcnn\")\n",
    "    return model"
   ]
  },
  {
   "cell_type": "code",
   "execution_count": 18,
   "id": "29623f7c",
   "metadata": {},
   "outputs": [
    {
     "name": "stdout",
     "output_type": "stream",
     "text": [
      "Epoch 1/10\n",
      "103/103 - 60s - loss: 0.7368 - auc: 0.4829 - acc: 0.5098 - val_loss: 0.7435 - val_auc: 0.5543 - val_acc: 0.5657 - 60s/epoch - 579ms/step\n",
      "Epoch 2/10\n",
      "103/103 - 32s - loss: 0.6926 - auc: 0.5681 - acc: 0.5732 - val_loss: 0.8668 - val_auc: 0.5780 - val_acc: 0.5657 - 32s/epoch - 309ms/step\n",
      "Epoch 3/10\n",
      "103/103 - 31s - loss: 0.6706 - auc: 0.6468 - acc: 0.6244 - val_loss: 0.9267 - val_auc: 0.4584 - val_acc: 0.5657 - 31s/epoch - 297ms/step\n",
      "Epoch 4/10\n",
      "103/103 - 30s - loss: 0.6513 - auc: 0.6899 - acc: 0.6512 - val_loss: 0.8139 - val_auc: 0.5178 - val_acc: 0.5657 - 30s/epoch - 296ms/step\n",
      "Epoch 5/10\n",
      "103/103 - 31s - loss: 0.6201 - auc: 0.7534 - acc: 0.6951 - val_loss: 1.0057 - val_auc: 0.4656 - val_acc: 0.5714 - 31s/epoch - 300ms/step\n",
      "Epoch 6/10\n",
      "103/103 - 31s - loss: 0.5870 - auc: 0.7999 - acc: 0.7293 - val_loss: 0.8875 - val_auc: 0.4825 - val_acc: 0.5486 - 31s/epoch - 296ms/step\n",
      "Epoch 7/10\n",
      "103/103 - 31s - loss: 0.5517 - auc: 0.8354 - acc: 0.7585 - val_loss: 0.7719 - val_auc: 0.5166 - val_acc: 0.5371 - 31s/epoch - 298ms/step\n",
      "Epoch 8/10\n",
      "103/103 - 32s - loss: 0.5218 - auc: 0.8569 - acc: 0.7707 - val_loss: 0.7572 - val_auc: 0.5511 - val_acc: 0.5600 - 32s/epoch - 310ms/step\n",
      "Epoch 9/10\n",
      "103/103 - 32s - loss: 0.4908 - auc: 0.8820 - acc: 0.8049 - val_loss: 0.7951 - val_auc: 0.5546 - val_acc: 0.5543 - 32s/epoch - 311ms/step\n",
      "Epoch 10/10\n",
      "103/103 - 32s - loss: 0.4484 - auc: 0.9146 - acc: 0.8341 - val_loss: 0.8129 - val_auc: 0.5286 - val_acc: 0.5371 - 32s/epoch - 315ms/step\n",
      "Epoch 1/10\n",
      "103/103 - 33s - loss: 0.7261 - auc_1: 0.5055 - acc: 0.5024 - val_loss: 0.8090 - val_auc_1: 0.5360 - val_acc: 0.5657 - 33s/epoch - 317ms/step\n",
      "Epoch 2/10\n",
      "103/103 - 32s - loss: 0.6984 - auc_1: 0.5662 - acc: 0.5537 - val_loss: 0.9350 - val_auc_1: 0.5566 - val_acc: 0.5657 - 32s/epoch - 306ms/step\n",
      "Epoch 3/10\n",
      "103/103 - 30s - loss: 0.6735 - auc_1: 0.6281 - acc: 0.6146 - val_loss: 1.0269 - val_auc_1: 0.4541 - val_acc: 0.5657 - 30s/epoch - 294ms/step\n",
      "Epoch 4/10\n",
      "103/103 - 31s - loss: 0.6488 - auc_1: 0.6909 - acc: 0.6512 - val_loss: 1.0563 - val_auc_1: 0.4638 - val_acc: 0.5657 - 31s/epoch - 300ms/step\n",
      "Epoch 5/10\n",
      "103/103 - 32s - loss: 0.6278 - auc_1: 0.7301 - acc: 0.6902 - val_loss: 1.0133 - val_auc_1: 0.4818 - val_acc: 0.5714 - 32s/epoch - 314ms/step\n",
      "Epoch 6/10\n",
      "103/103 - 33s - loss: 0.6078 - auc_1: 0.7558 - acc: 0.6927 - val_loss: 0.8772 - val_auc_1: 0.4846 - val_acc: 0.5543 - 33s/epoch - 319ms/step\n",
      "Epoch 7/10\n",
      "103/103 - 32s - loss: 0.5818 - auc_1: 0.7895 - acc: 0.7098 - val_loss: 0.8491 - val_auc_1: 0.4864 - val_acc: 0.5486 - 32s/epoch - 314ms/step\n",
      "Epoch 8/10\n",
      "103/103 - 32s - loss: 0.5546 - auc_1: 0.8227 - acc: 0.7268 - val_loss: 0.7701 - val_auc_1: 0.5117 - val_acc: 0.5429 - 32s/epoch - 308ms/step\n",
      "Epoch 9/10\n",
      "103/103 - 32s - loss: 0.5326 - auc_1: 0.8376 - acc: 0.7439 - val_loss: 0.7393 - val_auc_1: 0.5419 - val_acc: 0.5771 - 32s/epoch - 306ms/step\n",
      "Epoch 10/10\n",
      "103/103 - 32s - loss: 0.5075 - auc_1: 0.8591 - acc: 0.7561 - val_loss: 0.8124 - val_auc_1: 0.5550 - val_acc: 0.4800 - 32s/epoch - 312ms/step\n",
      "0.0\n",
      "Epoch 1/10\n",
      "103/103 - 34s - loss: 0.7303 - auc_2: 0.4807 - acc: 0.4732 - val_loss: 0.7534 - val_auc_2: 0.5092 - val_acc: 0.5657 - 34s/epoch - 329ms/step\n",
      "Epoch 2/10\n",
      "103/103 - 33s - loss: 0.6955 - auc_2: 0.5732 - acc: 0.5512 - val_loss: 0.7874 - val_auc_2: 0.5185 - val_acc: 0.5657 - 33s/epoch - 317ms/step\n",
      "Epoch 3/10\n",
      "103/103 - 32s - loss: 0.6857 - auc_2: 0.6082 - acc: 0.5829 - val_loss: 0.9307 - val_auc_2: 0.5354 - val_acc: 0.5657 - 32s/epoch - 308ms/step\n",
      "Epoch 4/10\n",
      "103/103 - 33s - loss: 0.6648 - auc_2: 0.6791 - acc: 0.6366 - val_loss: 0.8272 - val_auc_2: 0.5215 - val_acc: 0.5657 - 33s/epoch - 316ms/step\n",
      "Epoch 5/10\n",
      "103/103 - 32s - loss: 0.6424 - auc_2: 0.6998 - acc: 0.6537 - val_loss: 0.7845 - val_auc_2: 0.4604 - val_acc: 0.5371 - 32s/epoch - 312ms/step\n",
      "Epoch 6/10\n",
      "103/103 - 32s - loss: 0.6164 - auc_2: 0.7495 - acc: 0.7000 - val_loss: 0.8275 - val_auc_2: 0.5022 - val_acc: 0.5371 - 32s/epoch - 315ms/step\n",
      "Epoch 7/10\n",
      "103/103 - 31s - loss: 0.5807 - auc_2: 0.8008 - acc: 0.7439 - val_loss: 0.7397 - val_auc_2: 0.5163 - val_acc: 0.5600 - 31s/epoch - 305ms/step\n",
      "Epoch 8/10\n",
      "103/103 - 31s - loss: 0.5512 - auc_2: 0.8362 - acc: 0.7683 - val_loss: 0.7127 - val_auc_2: 0.5633 - val_acc: 0.5600 - 31s/epoch - 299ms/step\n",
      "Epoch 9/10\n",
      "103/103 - 32s - loss: 0.5139 - auc_2: 0.8690 - acc: 0.8073 - val_loss: 0.7401 - val_auc_2: 0.5552 - val_acc: 0.4971 - 32s/epoch - 308ms/step\n",
      "Epoch 10/10\n",
      "103/103 - 31s - loss: 0.4750 - auc_2: 0.8966 - acc: 0.8293 - val_loss: 0.7516 - val_auc_2: 0.5409 - val_acc: 0.5486 - 31s/epoch - 305ms/step\n",
      "Epoch 1/10\n",
      "103/103 - 33s - loss: 0.7284 - auc_3: 0.4954 - acc: 0.4805 - val_loss: 0.7162 - val_auc_3: 0.5278 - val_acc: 0.5657 - 33s/epoch - 320ms/step\n",
      "Epoch 2/10\n",
      "103/103 - 32s - loss: 0.7037 - auc_3: 0.5537 - acc: 0.5195 - val_loss: 0.7806 - val_auc_3: 0.5767 - val_acc: 0.5657 - 32s/epoch - 307ms/step\n",
      "Epoch 3/10\n",
      "103/103 - 32s - loss: 0.6815 - auc_3: 0.6097 - acc: 0.5927 - val_loss: 0.8022 - val_auc_3: 0.5484 - val_acc: 0.5657 - 32s/epoch - 308ms/step\n",
      "Epoch 4/10\n",
      "103/103 - 32s - loss: 0.6649 - auc_3: 0.6541 - acc: 0.6024 - val_loss: 0.7815 - val_auc_3: 0.5147 - val_acc: 0.5657 - 32s/epoch - 309ms/step\n",
      "Epoch 5/10\n",
      "103/103 - 31s - loss: 0.6383 - auc_3: 0.7128 - acc: 0.6707 - val_loss: 0.7965 - val_auc_3: 0.5342 - val_acc: 0.5600 - 31s/epoch - 303ms/step\n",
      "Epoch 6/10\n",
      "103/103 - 32s - loss: 0.6165 - auc_3: 0.7422 - acc: 0.6927 - val_loss: 0.8598 - val_auc_3: 0.4997 - val_acc: 0.5486 - 32s/epoch - 312ms/step\n",
      "Epoch 7/10\n",
      "103/103 - 32s - loss: 0.5847 - auc_3: 0.7953 - acc: 0.7341 - val_loss: 0.8202 - val_auc_3: 0.5249 - val_acc: 0.5371 - 32s/epoch - 310ms/step\n",
      "Epoch 8/10\n",
      "103/103 - 32s - loss: 0.5600 - auc_3: 0.8258 - acc: 0.7341 - val_loss: 0.7917 - val_auc_3: 0.5136 - val_acc: 0.5543 - 32s/epoch - 309ms/step\n",
      "Epoch 9/10\n",
      "103/103 - 33s - loss: 0.5287 - auc_3: 0.8484 - acc: 0.7780 - val_loss: 0.7227 - val_auc_3: 0.5464 - val_acc: 0.5886 - 33s/epoch - 321ms/step\n",
      "Epoch 10/10\n",
      "103/103 - 31s - loss: 0.5005 - auc_3: 0.8741 - acc: 0.7927 - val_loss: 0.7567 - val_auc_3: 0.5645 - val_acc: 0.5086 - 31s/epoch - 305ms/step\n",
      "0.1\n",
      "Epoch 1/10\n",
      "103/103 - 32s - loss: 0.7311 - auc_4: 0.4830 - acc: 0.4902 - val_loss: 0.7963 - val_auc_4: 0.5633 - val_acc: 0.5657 - 32s/epoch - 315ms/step\n",
      "Epoch 2/10\n",
      "103/103 - 31s - loss: 0.6964 - auc_4: 0.5897 - acc: 0.5659 - val_loss: 1.0508 - val_auc_4: 0.5142 - val_acc: 0.5657 - 31s/epoch - 303ms/step\n",
      "Epoch 3/10\n",
      "103/103 - 31s - loss: 0.6840 - auc_4: 0.5997 - acc: 0.5854 - val_loss: 0.8791 - val_auc_4: 0.4942 - val_acc: 0.5657 - 31s/epoch - 302ms/step\n",
      "Epoch 4/10\n",
      "103/103 - 32s - loss: 0.6749 - auc_4: 0.6305 - acc: 0.6073 - val_loss: 0.9322 - val_auc_4: 0.4781 - val_acc: 0.5657 - 32s/epoch - 307ms/step\n",
      "Epoch 5/10\n",
      "103/103 - 32s - loss: 0.6322 - auc_4: 0.7241 - acc: 0.6780 - val_loss: 0.9327 - val_auc_4: 0.4693 - val_acc: 0.5600 - 32s/epoch - 309ms/step\n",
      "Epoch 6/10\n",
      "103/103 - 32s - loss: 0.6149 - auc_4: 0.7409 - acc: 0.7000 - val_loss: 0.8174 - val_auc_4: 0.4722 - val_acc: 0.5486 - 32s/epoch - 312ms/step\n",
      "Epoch 7/10\n",
      "103/103 - 32s - loss: 0.6041 - auc_4: 0.7635 - acc: 0.6951 - val_loss: 0.7380 - val_auc_4: 0.5377 - val_acc: 0.5429 - 32s/epoch - 314ms/step\n",
      "Epoch 8/10\n",
      "103/103 - 33s - loss: 0.5681 - auc_4: 0.8009 - acc: 0.7195 - val_loss: 0.6987 - val_auc_4: 0.5657 - val_acc: 0.5829 - 33s/epoch - 318ms/step\n",
      "Epoch 9/10\n",
      "103/103 - 33s - loss: 0.5372 - auc_4: 0.8406 - acc: 0.7732 - val_loss: 0.7067 - val_auc_4: 0.5762 - val_acc: 0.6114 - 33s/epoch - 320ms/step\n",
      "Epoch 10/10\n",
      "103/103 - 32s - loss: 0.5075 - auc_4: 0.8612 - acc: 0.7878 - val_loss: 0.8192 - val_auc_4: 0.5483 - val_acc: 0.4514 - 32s/epoch - 312ms/step\n",
      "Epoch 1/10\n",
      "103/103 - 33s - loss: 0.7295 - auc_5: 0.4600 - acc: 0.4439 - val_loss: 0.7541 - val_auc_5: 0.5496 - val_acc: 0.5657 - 33s/epoch - 318ms/step\n",
      "Epoch 2/10\n",
      "103/103 - 32s - loss: 0.6882 - auc_5: 0.5785 - acc: 0.5561 - val_loss: 0.8358 - val_auc_5: 0.5210 - val_acc: 0.5657 - 32s/epoch - 314ms/step\n",
      "Epoch 3/10\n",
      "103/103 - 33s - loss: 0.6835 - auc_5: 0.6010 - acc: 0.5829 - val_loss: 0.8066 - val_auc_5: 0.4937 - val_acc: 0.5657 - 33s/epoch - 319ms/step\n",
      "Epoch 4/10\n",
      "103/103 - 32s - loss: 0.6646 - auc_5: 0.6405 - acc: 0.5878 - val_loss: 0.8585 - val_auc_5: 0.4699 - val_acc: 0.5657 - 32s/epoch - 310ms/step\n",
      "Epoch 5/10\n",
      "103/103 - 32s - loss: 0.6445 - auc_5: 0.7013 - acc: 0.6561 - val_loss: 0.8135 - val_auc_5: 0.4595 - val_acc: 0.5543 - 32s/epoch - 309ms/step\n"
     ]
    },
    {
     "name": "stdout",
     "output_type": "stream",
     "text": [
      "Epoch 6/10\n",
      "103/103 - 32s - loss: 0.6187 - auc_5: 0.7406 - acc: 0.6780 - val_loss: 0.8316 - val_auc_5: 0.4752 - val_acc: 0.5486 - 32s/epoch - 314ms/step\n",
      "Epoch 7/10\n",
      "103/103 - 32s - loss: 0.5802 - auc_5: 0.7978 - acc: 0.7073 - val_loss: 0.7376 - val_auc_5: 0.5231 - val_acc: 0.5543 - 32s/epoch - 313ms/step\n",
      "Epoch 8/10\n",
      "103/103 - 32s - loss: 0.5528 - auc_5: 0.8168 - acc: 0.7390 - val_loss: 0.6965 - val_auc_5: 0.5678 - val_acc: 0.5771 - 32s/epoch - 316ms/step\n",
      "Epoch 9/10\n",
      "103/103 - 33s - loss: 0.5259 - auc_5: 0.8474 - acc: 0.7634 - val_loss: 0.7082 - val_auc_5: 0.5702 - val_acc: 0.5714 - 33s/epoch - 318ms/step\n",
      "Epoch 10/10\n",
      "103/103 - 33s - loss: 0.4874 - auc_5: 0.8855 - acc: 0.8024 - val_loss: 0.7419 - val_auc_5: 0.5742 - val_acc: 0.5771 - 33s/epoch - 319ms/step\n",
      "0.2\n",
      "Epoch 1/10\n",
      "103/103 - 34s - loss: 0.7273 - auc_6: 0.4890 - acc: 0.4902 - val_loss: 0.7293 - val_auc_6: 0.4747 - val_acc: 0.5657 - 34s/epoch - 330ms/step\n",
      "Epoch 2/10\n",
      "103/103 - 33s - loss: 0.7040 - auc_6: 0.5431 - acc: 0.5537 - val_loss: 0.9269 - val_auc_6: 0.4696 - val_acc: 0.5657 - 33s/epoch - 317ms/step\n",
      "Epoch 3/10\n",
      "103/103 - 32s - loss: 0.6904 - auc_6: 0.5852 - acc: 0.5707 - val_loss: 0.8516 - val_auc_6: 0.4562 - val_acc: 0.5657 - 32s/epoch - 308ms/step\n",
      "Epoch 4/10\n",
      "103/103 - 31s - loss: 0.6825 - auc_6: 0.6058 - acc: 0.6098 - val_loss: 0.8001 - val_auc_6: 0.5730 - val_acc: 0.5657 - 31s/epoch - 306ms/step\n",
      "Epoch 5/10\n",
      "103/103 - 32s - loss: 0.6603 - auc_6: 0.6559 - acc: 0.6268 - val_loss: 0.8843 - val_auc_6: 0.5023 - val_acc: 0.5657 - 32s/epoch - 308ms/step\n",
      "Epoch 6/10\n",
      "103/103 - 31s - loss: 0.6326 - auc_6: 0.7290 - acc: 0.7000 - val_loss: 0.8352 - val_auc_6: 0.5403 - val_acc: 0.5429 - 31s/epoch - 302ms/step\n",
      "Epoch 7/10\n",
      "103/103 - 33s - loss: 0.6086 - auc_6: 0.7499 - acc: 0.6902 - val_loss: 0.7519 - val_auc_6: 0.5718 - val_acc: 0.5543 - 33s/epoch - 319ms/step\n",
      "Epoch 8/10\n",
      "103/103 - 32s - loss: 0.5904 - auc_6: 0.7691 - acc: 0.7049 - val_loss: 0.7439 - val_auc_6: 0.5548 - val_acc: 0.5543 - 32s/epoch - 313ms/step\n",
      "Epoch 9/10\n",
      "103/103 - 32s - loss: 0.5514 - auc_6: 0.8201 - acc: 0.7390 - val_loss: 0.7408 - val_auc_6: 0.5637 - val_acc: 0.5314 - 32s/epoch - 308ms/step\n",
      "Epoch 10/10\n",
      "103/103 - 32s - loss: 0.5378 - auc_6: 0.8294 - acc: 0.7415 - val_loss: 0.7474 - val_auc_6: 0.5484 - val_acc: 0.5486 - 32s/epoch - 314ms/step\n",
      "Epoch 1/10\n",
      "103/103 - 34s - loss: 0.7313 - auc_7: 0.4777 - acc: 0.4634 - val_loss: 0.8082 - val_auc_7: 0.4993 - val_acc: 0.5657 - 34s/epoch - 327ms/step\n",
      "Epoch 2/10\n",
      "103/103 - 31s - loss: 0.7125 - auc_7: 0.5315 - acc: 0.5512 - val_loss: 0.9924 - val_auc_7: 0.4626 - val_acc: 0.5657 - 31s/epoch - 301ms/step\n",
      "Epoch 3/10\n",
      "103/103 - 31s - loss: 0.6860 - auc_7: 0.5929 - acc: 0.5780 - val_loss: 0.7703 - val_auc_7: 0.4677 - val_acc: 0.5657 - 31s/epoch - 301ms/step\n",
      "Epoch 4/10\n",
      "103/103 - 32s - loss: 0.6613 - auc_7: 0.6662 - acc: 0.6512 - val_loss: 0.7842 - val_auc_7: 0.4304 - val_acc: 0.5714 - 32s/epoch - 311ms/step\n",
      "Epoch 5/10\n",
      "103/103 - 32s - loss: 0.6395 - auc_7: 0.7105 - acc: 0.6756 - val_loss: 0.8678 - val_auc_7: 0.4699 - val_acc: 0.5600 - 32s/epoch - 309ms/step\n",
      "Epoch 6/10\n",
      "103/103 - 33s - loss: 0.6150 - auc_7: 0.7595 - acc: 0.6976 - val_loss: 0.8274 - val_auc_7: 0.4773 - val_acc: 0.5543 - 33s/epoch - 325ms/step\n",
      "Epoch 7/10\n",
      "103/103 - 33s - loss: 0.5920 - auc_7: 0.7819 - acc: 0.7122 - val_loss: 0.7298 - val_auc_7: 0.5464 - val_acc: 0.5657 - 33s/epoch - 322ms/step\n",
      "Epoch 8/10\n",
      "103/103 - 32s - loss: 0.5574 - auc_7: 0.8304 - acc: 0.7463 - val_loss: 0.7158 - val_auc_7: 0.5666 - val_acc: 0.6114 - 32s/epoch - 309ms/step\n",
      "Epoch 9/10\n",
      "103/103 - 31s - loss: 0.5305 - auc_7: 0.8486 - acc: 0.7756 - val_loss: 0.7455 - val_auc_7: 0.5631 - val_acc: 0.5943 - 31s/epoch - 300ms/step\n",
      "Epoch 10/10\n",
      "103/103 - 31s - loss: 0.4990 - auc_7: 0.8725 - acc: 0.7951 - val_loss: 0.7733 - val_auc_7: 0.5698 - val_acc: 0.6000 - 31s/epoch - 300ms/step\n",
      "0.30000000000000004\n",
      "Epoch 1/10\n",
      "103/103 - 32s - loss: 0.7333 - auc_8: 0.4785 - acc: 0.4659 - val_loss: 0.7824 - val_auc_8: 0.5116 - val_acc: 0.5657 - 32s/epoch - 314ms/step\n",
      "Epoch 2/10\n",
      "103/103 - 32s - loss: 0.7102 - auc_8: 0.5262 - acc: 0.4854 - val_loss: 0.8807 - val_auc_8: 0.4899 - val_acc: 0.5657 - 32s/epoch - 310ms/step\n",
      "Epoch 3/10\n",
      "103/103 - 31s - loss: 0.6936 - auc_8: 0.5815 - acc: 0.5585 - val_loss: 0.8238 - val_auc_8: 0.5621 - val_acc: 0.5657 - 31s/epoch - 299ms/step\n",
      "Epoch 4/10\n",
      "103/103 - 31s - loss: 0.6802 - auc_8: 0.6182 - acc: 0.5854 - val_loss: 0.7534 - val_auc_8: 0.4997 - val_acc: 0.5600 - 31s/epoch - 299ms/step\n",
      "Epoch 5/10\n",
      "103/103 - 31s - loss: 0.6522 - auc_8: 0.6693 - acc: 0.6195 - val_loss: 0.7592 - val_auc_8: 0.4872 - val_acc: 0.5543 - 31s/epoch - 304ms/step\n",
      "Epoch 6/10\n",
      "103/103 - 32s - loss: 0.6361 - auc_8: 0.7030 - acc: 0.6585 - val_loss: 0.7588 - val_auc_8: 0.5393 - val_acc: 0.5486 - 32s/epoch - 313ms/step\n",
      "Epoch 7/10\n",
      "103/103 - 32s - loss: 0.6213 - auc_8: 0.7255 - acc: 0.6732 - val_loss: 0.7258 - val_auc_8: 0.5274 - val_acc: 0.5600 - 32s/epoch - 313ms/step\n",
      "Epoch 8/10\n",
      "103/103 - 31s - loss: 0.6032 - auc_8: 0.7525 - acc: 0.6927 - val_loss: 0.7479 - val_auc_8: 0.5466 - val_acc: 0.5143 - 31s/epoch - 301ms/step\n",
      "Epoch 9/10\n",
      "103/103 - 31s - loss: 0.5658 - auc_8: 0.8042 - acc: 0.7244 - val_loss: 0.7627 - val_auc_8: 0.5719 - val_acc: 0.4914 - 31s/epoch - 300ms/step\n",
      "Epoch 10/10\n",
      "103/103 - 32s - loss: 0.5480 - auc_8: 0.8203 - acc: 0.7537 - val_loss: 0.7652 - val_auc_8: 0.5620 - val_acc: 0.5314 - 32s/epoch - 310ms/step\n",
      "Epoch 1/10\n",
      "103/103 - 33s - loss: 0.7459 - auc_9: 0.4675 - acc: 0.4805 - val_loss: 0.7645 - val_auc_9: 0.4591 - val_acc: 0.5657 - 33s/epoch - 319ms/step\n",
      "Epoch 2/10\n",
      "103/103 - 32s - loss: 0.7012 - auc_9: 0.5280 - acc: 0.5171 - val_loss: 0.8252 - val_auc_9: 0.5171 - val_acc: 0.5657 - 32s/epoch - 311ms/step\n",
      "Epoch 3/10\n",
      "103/103 - 32s - loss: 0.6864 - auc_9: 0.5850 - acc: 0.5488 - val_loss: 0.8743 - val_auc_9: 0.4427 - val_acc: 0.5657 - 32s/epoch - 309ms/step\n",
      "Epoch 4/10\n",
      "103/103 - 32s - loss: 0.6707 - auc_9: 0.6366 - acc: 0.6220 - val_loss: 0.7794 - val_auc_9: 0.4342 - val_acc: 0.5657 - 32s/epoch - 309ms/step\n",
      "Epoch 5/10\n",
      "103/103 - 32s - loss: 0.6493 - auc_9: 0.7025 - acc: 0.6683 - val_loss: 0.8159 - val_auc_9: 0.4837 - val_acc: 0.5657 - 32s/epoch - 307ms/step\n",
      "Epoch 6/10\n",
      "103/103 - 32s - loss: 0.6388 - auc_9: 0.7062 - acc: 0.6683 - val_loss: 0.7811 - val_auc_9: 0.5142 - val_acc: 0.5486 - 32s/epoch - 306ms/step\n",
      "Epoch 7/10\n",
      "103/103 - 31s - loss: 0.6221 - auc_9: 0.7362 - acc: 0.6805 - val_loss: 0.7279 - val_auc_9: 0.5075 - val_acc: 0.5486 - 31s/epoch - 304ms/step\n",
      "Epoch 8/10\n",
      "103/103 - 32s - loss: 0.5855 - auc_9: 0.7862 - acc: 0.7195 - val_loss: 0.7828 - val_auc_9: 0.5482 - val_acc: 0.4971 - 32s/epoch - 314ms/step\n",
      "Epoch 9/10\n",
      "103/103 - 31s - loss: 0.5527 - auc_9: 0.8292 - acc: 0.7537 - val_loss: 0.8345 - val_auc_9: 0.5237 - val_acc: 0.4400 - 31s/epoch - 306ms/step\n",
      "Epoch 10/10\n",
      "103/103 - 31s - loss: 0.5240 - auc_9: 0.8555 - acc: 0.7854 - val_loss: 0.9014 - val_auc_9: 0.5438 - val_acc: 0.4286 - 31s/epoch - 305ms/step\n",
      "0.4\n",
      "Epoch 1/10\n",
      "103/103 - 32s - loss: 0.7294 - auc_10: 0.5155 - acc: 0.5000 - val_loss: 0.7719 - val_auc_10: 0.5589 - val_acc: 0.5657 - 32s/epoch - 313ms/step\n",
      "Epoch 2/10\n",
      "103/103 - 31s - loss: 0.7094 - auc_10: 0.5292 - acc: 0.5073 - val_loss: 0.9462 - val_auc_10: 0.5377 - val_acc: 0.5657 - 31s/epoch - 301ms/step\n",
      "Epoch 3/10\n",
      "103/103 - 31s - loss: 0.7007 - auc_10: 0.5861 - acc: 0.5780 - val_loss: 0.7430 - val_auc_10: 0.5185 - val_acc: 0.5657 - 31s/epoch - 304ms/step\n",
      "Epoch 4/10\n",
      "103/103 - 32s - loss: 0.6842 - auc_10: 0.6093 - acc: 0.5878 - val_loss: 0.7715 - val_auc_10: 0.5819 - val_acc: 0.5657 - 32s/epoch - 312ms/step\n",
      "Epoch 5/10\n",
      "103/103 - 31s - loss: 0.6707 - auc_10: 0.6525 - acc: 0.6390 - val_loss: 0.7815 - val_auc_10: 0.5486 - val_acc: 0.5657 - 31s/epoch - 302ms/step\n",
      "Epoch 6/10\n",
      "103/103 - 33s - loss: 0.6653 - auc_10: 0.6556 - acc: 0.6171 - val_loss: 0.7854 - val_auc_10: 0.4796 - val_acc: 0.5486 - 33s/epoch - 316ms/step\n",
      "Epoch 7/10\n",
      "103/103 - 32s - loss: 0.6462 - auc_10: 0.7021 - acc: 0.6683 - val_loss: 0.7270 - val_auc_10: 0.5579 - val_acc: 0.5486 - 32s/epoch - 307ms/step\n",
      "Epoch 8/10\n",
      "103/103 - 31s - loss: 0.6227 - auc_10: 0.7339 - acc: 0.6927 - val_loss: 0.6932 - val_auc_10: 0.5762 - val_acc: 0.5886 - 31s/epoch - 302ms/step\n",
      "Epoch 9/10\n",
      "103/103 - 31s - loss: 0.6090 - auc_10: 0.7544 - acc: 0.7171 - val_loss: 0.7130 - val_auc_10: 0.5520 - val_acc: 0.5429 - 31s/epoch - 305ms/step\n"
     ]
    },
    {
     "name": "stdout",
     "output_type": "stream",
     "text": [
      "Epoch 10/10\n",
      "103/103 - 31s - loss: 0.5820 - auc_10: 0.7906 - acc: 0.7268 - val_loss: 0.7986 - val_auc_10: 0.5799 - val_acc: 0.4571 - 31s/epoch - 306ms/step\n",
      "Epoch 1/10\n",
      "103/103 - 33s - loss: 0.7385 - auc_11: 0.4900 - acc: 0.4878 - val_loss: 0.7853 - val_auc_11: 0.5607 - val_acc: 0.5657 - 33s/epoch - 323ms/step\n",
      "Epoch 2/10\n",
      "103/103 - 31s - loss: 0.7071 - auc_11: 0.5377 - acc: 0.5220 - val_loss: 0.8516 - val_auc_11: 0.4640 - val_acc: 0.5657 - 31s/epoch - 301ms/step\n",
      "Epoch 3/10\n",
      "103/103 - 32s - loss: 0.7121 - auc_11: 0.5283 - acc: 0.5366 - val_loss: 0.7905 - val_auc_11: 0.4352 - val_acc: 0.5657 - 32s/epoch - 307ms/step\n",
      "Epoch 4/10\n",
      "103/103 - 32s - loss: 0.6868 - auc_11: 0.5900 - acc: 0.5732 - val_loss: 0.7738 - val_auc_11: 0.4540 - val_acc: 0.5657 - 32s/epoch - 307ms/step\n",
      "Epoch 5/10\n",
      "103/103 - 32s - loss: 0.6806 - auc_11: 0.6175 - acc: 0.5878 - val_loss: 0.7611 - val_auc_11: 0.4953 - val_acc: 0.5543 - 32s/epoch - 311ms/step\n",
      "Epoch 6/10\n",
      "103/103 - 31s - loss: 0.6557 - auc_11: 0.6848 - acc: 0.6585 - val_loss: 0.7924 - val_auc_11: 0.4959 - val_acc: 0.5543 - 31s/epoch - 306ms/step\n",
      "Epoch 7/10\n",
      "103/103 - 32s - loss: 0.6376 - auc_11: 0.6956 - acc: 0.6488 - val_loss: 0.7122 - val_auc_11: 0.5308 - val_acc: 0.5543 - 32s/epoch - 308ms/step\n",
      "Epoch 8/10\n",
      "103/103 - 32s - loss: 0.6248 - auc_11: 0.7200 - acc: 0.6756 - val_loss: 0.7177 - val_auc_11: 0.5358 - val_acc: 0.5600 - 32s/epoch - 309ms/step\n",
      "Epoch 9/10\n",
      "103/103 - 32s - loss: 0.6214 - auc_11: 0.7238 - acc: 0.6951 - val_loss: 0.7280 - val_auc_11: 0.5800 - val_acc: 0.5943 - 32s/epoch - 315ms/step\n",
      "Epoch 10/10\n",
      "103/103 - 32s - loss: 0.5877 - auc_11: 0.7805 - acc: 0.7146 - val_loss: 0.7426 - val_auc_11: 0.5830 - val_acc: 0.5943 - 32s/epoch - 310ms/step\n",
      "0.5\n",
      "Epoch 1/10\n",
      "103/103 - 33s - loss: 0.7403 - auc_12: 0.4566 - acc: 0.4610 - val_loss: 0.7140 - val_auc_12: 0.5659 - val_acc: 0.5657 - 33s/epoch - 320ms/step\n",
      "Epoch 2/10\n",
      "103/103 - 32s - loss: 0.7173 - auc_12: 0.5169 - acc: 0.4951 - val_loss: 0.6999 - val_auc_12: 0.5727 - val_acc: 0.5657 - 32s/epoch - 310ms/step\n",
      "Epoch 3/10\n",
      "103/103 - 31s - loss: 0.6955 - auc_12: 0.5667 - acc: 0.5317 - val_loss: 0.7795 - val_auc_12: 0.5854 - val_acc: 0.5657 - 31s/epoch - 304ms/step\n",
      "Epoch 4/10\n",
      "103/103 - 32s - loss: 0.6980 - auc_12: 0.5625 - acc: 0.5683 - val_loss: 0.7311 - val_auc_12: 0.5495 - val_acc: 0.5657 - 32s/epoch - 309ms/step\n",
      "Epoch 5/10\n",
      "103/103 - 32s - loss: 0.6942 - auc_12: 0.5764 - acc: 0.5683 - val_loss: 0.8119 - val_auc_12: 0.4597 - val_acc: 0.5600 - 32s/epoch - 309ms/step\n",
      "Epoch 6/10\n",
      "103/103 - 33s - loss: 0.6962 - auc_12: 0.5872 - acc: 0.5683 - val_loss: 0.7419 - val_auc_12: 0.4745 - val_acc: 0.5371 - 33s/epoch - 318ms/step\n",
      "Epoch 7/10\n",
      "103/103 - 33s - loss: 0.6773 - auc_12: 0.6372 - acc: 0.6195 - val_loss: 0.7187 - val_auc_12: 0.5601 - val_acc: 0.5543 - 33s/epoch - 316ms/step\n",
      "Epoch 8/10\n",
      "103/103 - 32s - loss: 0.6527 - auc_12: 0.6781 - acc: 0.6220 - val_loss: 0.6957 - val_auc_12: 0.5807 - val_acc: 0.5371 - 32s/epoch - 311ms/step\n",
      "Epoch 9/10\n",
      "103/103 - 31s - loss: 0.6461 - auc_12: 0.7067 - acc: 0.6610 - val_loss: 0.6999 - val_auc_12: 0.5684 - val_acc: 0.5543 - 31s/epoch - 300ms/step\n",
      "Epoch 10/10\n",
      "103/103 - 31s - loss: 0.6286 - auc_12: 0.7180 - acc: 0.6683 - val_loss: 0.7268 - val_auc_12: 0.5552 - val_acc: 0.5714 - 31s/epoch - 300ms/step\n",
      "Epoch 1/10\n",
      "103/103 - 32s - loss: 0.7376 - auc_13: 0.4588 - acc: 0.4659 - val_loss: 0.7495 - val_auc_13: 0.4403 - val_acc: 0.5657 - 32s/epoch - 313ms/step\n",
      "Epoch 2/10\n",
      "103/103 - 33s - loss: 0.7270 - auc_13: 0.4876 - acc: 0.4902 - val_loss: 0.7204 - val_auc_13: 0.4371 - val_acc: 0.5657 - 33s/epoch - 317ms/step\n",
      "Epoch 3/10\n",
      "103/103 - 32s - loss: 0.6747 - auc_13: 0.6177 - acc: 0.5878 - val_loss: 0.7046 - val_auc_13: 0.4676 - val_acc: 0.5657 - 32s/epoch - 307ms/step\n",
      "Epoch 4/10\n",
      "103/103 - 31s - loss: 0.6884 - auc_13: 0.6173 - acc: 0.6024 - val_loss: 0.6988 - val_auc_13: 0.4601 - val_acc: 0.5429 - 31s/epoch - 298ms/step\n",
      "Epoch 5/10\n",
      "103/103 - 31s - loss: 0.6676 - auc_13: 0.6689 - acc: 0.6293 - val_loss: 0.7252 - val_auc_13: 0.4682 - val_acc: 0.5486 - 31s/epoch - 305ms/step\n",
      "Epoch 6/10\n",
      "103/103 - 32s - loss: 0.6704 - auc_13: 0.6412 - acc: 0.6098 - val_loss: 0.8015 - val_auc_13: 0.4646 - val_acc: 0.5486 - 32s/epoch - 306ms/step\n",
      "Epoch 7/10\n",
      "103/103 - 32s - loss: 0.6381 - auc_13: 0.7092 - acc: 0.6537 - val_loss: 0.7016 - val_auc_13: 0.5492 - val_acc: 0.5600 - 32s/epoch - 307ms/step\n",
      "Epoch 8/10\n",
      "103/103 - 31s - loss: 0.6323 - auc_13: 0.7285 - acc: 0.6805 - val_loss: 0.7052 - val_auc_13: 0.5407 - val_acc: 0.5657 - 31s/epoch - 304ms/step\n",
      "Epoch 9/10\n",
      "103/103 - 31s - loss: 0.6007 - auc_13: 0.7594 - acc: 0.7000 - val_loss: 0.7202 - val_auc_13: 0.5053 - val_acc: 0.5429 - 31s/epoch - 299ms/step\n",
      "Epoch 10/10\n",
      "103/103 - 31s - loss: 0.5945 - auc_13: 0.7585 - acc: 0.7146 - val_loss: 0.7214 - val_auc_13: 0.5401 - val_acc: 0.4857 - 31s/epoch - 304ms/step\n",
      "0.6000000000000001\n",
      "Epoch 1/10\n",
      "103/103 - 33s - loss: 0.7517 - auc_14: 0.4769 - acc: 0.5024 - val_loss: 0.7563 - val_auc_14: 0.4899 - val_acc: 0.5657 - 33s/epoch - 318ms/step\n",
      "Epoch 2/10\n",
      "103/103 - 31s - loss: 0.7402 - auc_14: 0.4676 - acc: 0.4927 - val_loss: 0.7004 - val_auc_14: 0.5516 - val_acc: 0.5657 - 31s/epoch - 302ms/step\n",
      "Epoch 3/10\n",
      "103/103 - 32s - loss: 0.7099 - auc_14: 0.5485 - acc: 0.5390 - val_loss: 0.6974 - val_auc_14: 0.5483 - val_acc: 0.5657 - 32s/epoch - 310ms/step\n",
      "Epoch 4/10\n",
      "103/103 - 32s - loss: 0.6649 - auc_14: 0.6295 - acc: 0.5951 - val_loss: 0.7976 - val_auc_14: 0.4678 - val_acc: 0.5657 - 32s/epoch - 313ms/step\n",
      "Epoch 5/10\n",
      "103/103 - 32s - loss: 0.6917 - auc_14: 0.5895 - acc: 0.5585 - val_loss: 0.7165 - val_auc_14: 0.5062 - val_acc: 0.5600 - 32s/epoch - 314ms/step\n",
      "Epoch 6/10\n",
      "103/103 - 31s - loss: 0.6781 - auc_14: 0.6177 - acc: 0.6171 - val_loss: 0.7365 - val_auc_14: 0.4411 - val_acc: 0.5429 - 31s/epoch - 300ms/step\n",
      "Epoch 7/10\n",
      "103/103 - 31s - loss: 0.6620 - auc_14: 0.6532 - acc: 0.6000 - val_loss: 0.7058 - val_auc_14: 0.5579 - val_acc: 0.5657 - 31s/epoch - 305ms/step\n",
      "Epoch 8/10\n",
      "103/103 - 31s - loss: 0.6385 - auc_14: 0.7056 - acc: 0.6561 - val_loss: 0.7423 - val_auc_14: 0.5445 - val_acc: 0.4857 - 31s/epoch - 305ms/step\n",
      "Epoch 9/10\n",
      "103/103 - 32s - loss: 0.6453 - auc_14: 0.6832 - acc: 0.6439 - val_loss: 0.7263 - val_auc_14: 0.4962 - val_acc: 0.4857 - 32s/epoch - 310ms/step\n",
      "Epoch 10/10\n",
      "103/103 - 33s - loss: 0.6201 - auc_14: 0.7228 - acc: 0.6610 - val_loss: 0.6903 - val_auc_14: 0.5445 - val_acc: 0.5543 - 33s/epoch - 317ms/step\n",
      "Epoch 1/10\n",
      "103/103 - 34s - loss: 0.7345 - auc_15: 0.4814 - acc: 0.4756 - val_loss: 0.7375 - val_auc_15: 0.4633 - val_acc: 0.5657 - 34s/epoch - 328ms/step\n",
      "Epoch 2/10\n",
      "103/103 - 33s - loss: 0.7442 - auc_15: 0.5027 - acc: 0.5195 - val_loss: 0.8536 - val_auc_15: 0.4449 - val_acc: 0.5657 - 33s/epoch - 318ms/step\n",
      "Epoch 3/10\n",
      "103/103 - 31s - loss: 0.7045 - auc_15: 0.5691 - acc: 0.5707 - val_loss: 0.7742 - val_auc_15: 0.4401 - val_acc: 0.5657 - 31s/epoch - 300ms/step\n",
      "Epoch 4/10\n",
      "103/103 - 32s - loss: 0.7283 - auc_15: 0.5193 - acc: 0.5220 - val_loss: 0.7085 - val_auc_15: 0.4436 - val_acc: 0.5657 - 32s/epoch - 308ms/step\n",
      "Epoch 5/10\n",
      "103/103 - 32s - loss: 0.7148 - auc_15: 0.5629 - acc: 0.5610 - val_loss: 0.7008 - val_auc_15: 0.5055 - val_acc: 0.5600 - 32s/epoch - 308ms/step\n",
      "Epoch 6/10\n",
      "103/103 - 33s - loss: 0.6917 - auc_15: 0.5881 - acc: 0.5902 - val_loss: 0.7180 - val_auc_15: 0.4563 - val_acc: 0.5543 - 33s/epoch - 316ms/step\n",
      "Epoch 7/10\n",
      "103/103 - 32s - loss: 0.6898 - auc_15: 0.5898 - acc: 0.5512 - val_loss: 0.7008 - val_auc_15: 0.4815 - val_acc: 0.5429 - 32s/epoch - 311ms/step\n",
      "Epoch 8/10\n",
      "103/103 - 32s - loss: 0.6702 - auc_15: 0.6293 - acc: 0.5805 - val_loss: 0.7029 - val_auc_15: 0.4661 - val_acc: 0.5543 - 32s/epoch - 312ms/step\n",
      "Epoch 9/10\n",
      "103/103 - 31s - loss: 0.6980 - auc_15: 0.6155 - acc: 0.6098 - val_loss: 0.6928 - val_auc_15: 0.5754 - val_acc: 0.5829 - 31s/epoch - 305ms/step\n",
      "Epoch 10/10\n",
      "103/103 - 32s - loss: 0.6445 - auc_15: 0.6840 - acc: 0.6390 - val_loss: 0.6947 - val_auc_15: 0.5548 - val_acc: 0.5600 - 32s/epoch - 314ms/step\n",
      "0.7000000000000001\n",
      "Epoch 1/10\n",
      "103/103 - 32s - loss: 0.7482 - auc_16: 0.5129 - acc: 0.5073 - val_loss: 0.6889 - val_auc_16: 0.4238 - val_acc: 0.5657 - 32s/epoch - 313ms/step\n",
      "Epoch 2/10\n",
      "103/103 - 31s - loss: 0.7354 - auc_16: 0.5015 - acc: 0.4829 - val_loss: 0.6879 - val_auc_16: 0.4247 - val_acc: 0.5657 - 31s/epoch - 299ms/step\n"
     ]
    },
    {
     "name": "stdout",
     "output_type": "stream",
     "text": [
      "Epoch 3/10\n",
      "103/103 - 31s - loss: 0.7417 - auc_16: 0.5231 - acc: 0.5268 - val_loss: 0.6983 - val_auc_16: 0.4528 - val_acc: 0.4457 - 31s/epoch - 304ms/step\n",
      "Epoch 4/10\n",
      "103/103 - 32s - loss: 0.6989 - auc_16: 0.5602 - acc: 0.5366 - val_loss: 0.6929 - val_auc_16: 0.5312 - val_acc: 0.5314 - 32s/epoch - 307ms/step\n",
      "Epoch 5/10\n",
      "103/103 - 31s - loss: 0.7212 - auc_16: 0.5360 - acc: 0.5122 - val_loss: 0.7272 - val_auc_16: 0.4454 - val_acc: 0.4571 - 31s/epoch - 305ms/step\n",
      "Epoch 6/10\n",
      "103/103 - 32s - loss: 0.7123 - auc_16: 0.5548 - acc: 0.5415 - val_loss: 0.7245 - val_auc_16: 0.4575 - val_acc: 0.5314 - 32s/epoch - 306ms/step\n",
      "Epoch 7/10\n",
      "103/103 - 32s - loss: 0.6910 - auc_16: 0.5899 - acc: 0.5659 - val_loss: 0.6895 - val_auc_16: 0.5629 - val_acc: 0.5657 - 32s/epoch - 312ms/step\n",
      "Epoch 8/10\n",
      "103/103 - 33s - loss: 0.6575 - auc_16: 0.6391 - acc: 0.5951 - val_loss: 0.7073 - val_auc_16: 0.5548 - val_acc: 0.4971 - 33s/epoch - 316ms/step\n",
      "Epoch 9/10\n",
      "103/103 - 32s - loss: 0.6774 - auc_16: 0.6184 - acc: 0.6073 - val_loss: 0.7172 - val_auc_16: 0.4846 - val_acc: 0.5257 - 32s/epoch - 306ms/step\n",
      "Epoch 10/10\n",
      "103/103 - 32s - loss: 0.6675 - auc_16: 0.6449 - acc: 0.6122 - val_loss: 0.7054 - val_auc_16: 0.5673 - val_acc: 0.4971 - 32s/epoch - 313ms/step\n",
      "Epoch 1/10\n",
      "103/103 - 32s - loss: 0.7479 - auc_17: 0.5022 - acc: 0.5171 - val_loss: 0.6907 - val_auc_17: 0.5487 - val_acc: 0.5657 - 32s/epoch - 315ms/step\n",
      "Epoch 2/10\n",
      "103/103 - 31s - loss: 0.7509 - auc_17: 0.5025 - acc: 0.5390 - val_loss: 0.7072 - val_auc_17: 0.4745 - val_acc: 0.5657 - 31s/epoch - 302ms/step\n",
      "Epoch 3/10\n",
      "103/103 - 32s - loss: 0.7002 - auc_17: 0.5782 - acc: 0.5585 - val_loss: 0.6912 - val_auc_17: 0.4936 - val_acc: 0.5657 - 32s/epoch - 309ms/step\n",
      "Epoch 4/10\n",
      "103/103 - 32s - loss: 0.7195 - auc_17: 0.5088 - acc: 0.4878 - val_loss: 0.6802 - val_auc_17: 0.5943 - val_acc: 0.5600 - 32s/epoch - 312ms/step\n",
      "Epoch 5/10\n",
      "103/103 - 32s - loss: 0.7268 - auc_17: 0.5415 - acc: 0.5439 - val_loss: 0.7081 - val_auc_17: 0.5137 - val_acc: 0.5543 - 32s/epoch - 315ms/step\n",
      "Epoch 6/10\n",
      "103/103 - 32s - loss: 0.7145 - auc_17: 0.5450 - acc: 0.5293 - val_loss: 0.6983 - val_auc_17: 0.5596 - val_acc: 0.5543 - 32s/epoch - 307ms/step\n",
      "Epoch 7/10\n",
      "103/103 - 32s - loss: 0.6819 - auc_17: 0.6274 - acc: 0.5902 - val_loss: 0.7093 - val_auc_17: 0.5067 - val_acc: 0.5429 - 32s/epoch - 310ms/step\n",
      "Epoch 8/10\n",
      "103/103 - 32s - loss: 0.7048 - auc_17: 0.5559 - acc: 0.5512 - val_loss: 0.6979 - val_auc_17: 0.5695 - val_acc: 0.5657 - 32s/epoch - 315ms/step\n",
      "Epoch 9/10\n",
      "103/103 - 32s - loss: 0.7130 - auc_17: 0.5895 - acc: 0.5756 - val_loss: 0.6934 - val_auc_17: 0.5905 - val_acc: 0.5886 - 32s/epoch - 306ms/step\n",
      "Epoch 10/10\n",
      "103/103 - 32s - loss: 0.6882 - auc_17: 0.6076 - acc: 0.5951 - val_loss: 0.6844 - val_auc_17: 0.5817 - val_acc: 0.5714 - 32s/epoch - 314ms/step\n",
      "0.8\n",
      "Epoch 1/10\n",
      "103/103 - 33s - loss: 0.7834 - auc_18: 0.4918 - acc: 0.4756 - val_loss: 0.6932 - val_auc_18: 0.4201 - val_acc: 0.5657 - 33s/epoch - 318ms/step\n",
      "Epoch 2/10\n",
      "103/103 - 32s - loss: 0.8196 - auc_18: 0.4616 - acc: 0.4561 - val_loss: 0.6943 - val_auc_18: 0.4383 - val_acc: 0.5657 - 32s/epoch - 309ms/step\n",
      "Epoch 3/10\n",
      "103/103 - 33s - loss: 0.7992 - auc_18: 0.4865 - acc: 0.5000 - val_loss: 0.6943 - val_auc_18: 0.4788 - val_acc: 0.5657 - 33s/epoch - 319ms/step\n",
      "Epoch 4/10\n",
      "103/103 - 32s - loss: 0.7521 - auc_18: 0.5075 - acc: 0.5049 - val_loss: 0.6805 - val_auc_18: 0.5809 - val_acc: 0.5657 - 32s/epoch - 314ms/step\n",
      "Epoch 5/10\n",
      "103/103 - 32s - loss: 0.7847 - auc_18: 0.5201 - acc: 0.5171 - val_loss: 0.7308 - val_auc_18: 0.5290 - val_acc: 0.4343 - 32s/epoch - 310ms/step\n",
      "Epoch 6/10\n",
      "103/103 - 33s - loss: 0.7386 - auc_18: 0.5512 - acc: 0.5366 - val_loss: 0.6937 - val_auc_18: 0.5211 - val_acc: 0.5029 - 33s/epoch - 321ms/step\n",
      "Epoch 7/10\n",
      "103/103 - 32s - loss: 0.7538 - auc_18: 0.5331 - acc: 0.5341 - val_loss: 0.6987 - val_auc_18: 0.5199 - val_acc: 0.5371 - 32s/epoch - 307ms/step\n",
      "Epoch 8/10\n",
      "103/103 - 32s - loss: 0.7396 - auc_18: 0.5321 - acc: 0.5244 - val_loss: 0.7043 - val_auc_18: 0.5061 - val_acc: 0.5543 - 32s/epoch - 309ms/step\n",
      "Epoch 9/10\n",
      "103/103 - 32s - loss: 0.7325 - auc_18: 0.5672 - acc: 0.5634 - val_loss: 0.7079 - val_auc_18: 0.4436 - val_acc: 0.5486 - 32s/epoch - 308ms/step\n",
      "Epoch 10/10\n",
      "103/103 - 31s - loss: 0.7364 - auc_18: 0.5302 - acc: 0.5390 - val_loss: 0.6752 - val_auc_18: 0.5881 - val_acc: 0.5657 - 31s/epoch - 306ms/step\n",
      "Epoch 1/10\n",
      "103/103 - 33s - loss: 0.7719 - auc_19: 0.4973 - acc: 0.4902 - val_loss: 0.6935 - val_auc_19: 0.4447 - val_acc: 0.5657 - 33s/epoch - 318ms/step\n",
      "Epoch 2/10\n",
      "103/103 - 31s - loss: 0.7527 - auc_19: 0.5329 - acc: 0.5293 - val_loss: 0.9140 - val_auc_19: 0.4689 - val_acc: 0.5657 - 31s/epoch - 298ms/step\n",
      "Epoch 3/10\n",
      "103/103 - 32s - loss: 0.7820 - auc_19: 0.5039 - acc: 0.4951 - val_loss: 0.8189 - val_auc_19: 0.4367 - val_acc: 0.5657 - 32s/epoch - 309ms/step\n",
      "Epoch 4/10\n",
      "103/103 - 32s - loss: 0.7608 - auc_19: 0.5250 - acc: 0.5220 - val_loss: 0.7114 - val_auc_19: 0.4425 - val_acc: 0.5314 - 32s/epoch - 308ms/step\n",
      "Epoch 5/10\n",
      "103/103 - 32s - loss: 0.7719 - auc_19: 0.4917 - acc: 0.4902 - val_loss: 0.6975 - val_auc_19: 0.5084 - val_acc: 0.5429 - 32s/epoch - 307ms/step\n",
      "Epoch 6/10\n",
      "103/103 - 31s - loss: 0.7700 - auc_19: 0.5246 - acc: 0.5073 - val_loss: 0.6857 - val_auc_19: 0.6000 - val_acc: 0.5600 - 31s/epoch - 305ms/step\n",
      "Epoch 7/10\n",
      "103/103 - 31s - loss: 0.7649 - auc_19: 0.5446 - acc: 0.5341 - val_loss: 0.7145 - val_auc_19: 0.4664 - val_acc: 0.5429 - 31s/epoch - 303ms/step\n",
      "Epoch 8/10\n",
      "103/103 - 31s - loss: 0.7464 - auc_19: 0.5091 - acc: 0.5220 - val_loss: 0.7104 - val_auc_19: 0.4333 - val_acc: 0.5257 - 31s/epoch - 304ms/step\n",
      "Epoch 9/10\n",
      "103/103 - 31s - loss: 0.7544 - auc_19: 0.5192 - acc: 0.5146 - val_loss: 0.7206 - val_auc_19: 0.5203 - val_acc: 0.5371 - 31s/epoch - 301ms/step\n",
      "Epoch 10/10\n",
      "103/103 - 31s - loss: 0.7539 - auc_19: 0.5048 - acc: 0.4902 - val_loss: 0.7204 - val_auc_19: 0.4846 - val_acc: 0.5200 - 31s/epoch - 306ms/step\n",
      "0.9\n"
     ]
    }
   ],
   "source": [
    "with tf.device('/device:GPU:0'):\n",
    "    auc_list = []\n",
    "    auc_with_data_aug = []\n",
    "    count = 0\n",
    "    for i in np.arange(0, 1, 0.1):\n",
    "        for j in np.arange(2):\n",
    "            # Build model.\n",
    "            model = get_model(drop_out = i, with_data_aug = j, width=128, height=128, depth=64)\n",
    "\n",
    "            # Compile model.\n",
    "            initial_learning_rate = 0.0001\n",
    "            lr_schedule = keras.optimizers.schedules.ExponentialDecay(\n",
    "                initial_learning_rate, decay_steps=100000, decay_rate=0.96, staircase=True\n",
    "            )\n",
    "            model.compile(\n",
    "                loss=\"binary_crossentropy\",\n",
    "                optimizer=keras.optimizers.Adam(learning_rate=lr_schedule),\n",
    "                metrics=[keras.metrics.AUC(), keras.metrics.BinaryAccuracy(name='acc')],\n",
    "            )\n",
    "\n",
    "            # Define callbacks.\n",
    "            checkpoint_cb = keras.callbacks.ModelCheckpoint(\n",
    "               f\"Drop_out_{i}.h5\", save_best_only=True\n",
    "            )\n",
    "            # \n",
    "            early_stopping_cb = keras.callbacks.EarlyStopping(monitor=\"val_acc\", patience=15)  # TODO\n",
    "\n",
    "            # Train the model, doing validation at the end of each epoch\n",
    "            epochs = 10\n",
    "            history = model.fit(\n",
    "                tf.data.Dataset.from_tensor_slices((x_train_T2, y_train)).batch(4),\n",
    "                validation_data=tf.data.Dataset.from_tensor_slices((x_val_T2,y_val)).batch(4),\n",
    "                epochs=epochs,\n",
    "                shuffle=True,\n",
    "                verbose=2,\n",
    "                callbacks=[checkpoint_cb, early_stopping_cb],\n",
    "            )\n",
    "            if (count > 0):\n",
    "                if (j):\n",
    "                    auc_with_data_aug.append(history.history[f'val_auc_{count}'][-1])\n",
    "                else:\n",
    "                    auc_list.append(history.history[f'val_auc_{count}'][-1])\n",
    "            else:\n",
    "                if (j):\n",
    "                    auc_with_data_aug.append(history.history['val_auc'][-1])\n",
    "                else:\n",
    "                    auc_list.append(history.history['val_auc'][-1])\n",
    "            \n",
    "            count += 1\n",
    "        print(i)"
   ]
  },
  {
   "cell_type": "code",
   "execution_count": 19,
   "id": "eb69d03f",
   "metadata": {},
   "outputs": [
    {
     "data": {
      "image/png": "[encoded data removed]",
      "text/plain": [
       "<Figure size 1600x700 with 2 Axes>"
      ]
     },
     "metadata": {},
     "output_type": "display_data"
    }
   ],
   "source": [
    "drop_out_values = np.arange(0, 1, 0.1)\n",
    "\n",
    "plt.figure(figsize=(16,7))\n",
    "plt.subplot(1, 2, 1)\n",
    "plt.plot(drop_out_values, auc_list)\n",
    "plt.xlabel('Drop Out Value')\n",
    "plt.ylabel('AUC')\n",
    "plt.xlim([0, 1])\n",
    "plt.ylim([0.4, 0.6])\n",
    "plt.title(\"No Data Augmentation\")\n",
    "\n",
    "plt.subplot(1, 2, 2)\n",
    "plt.plot(drop_out_values, auc_with_data_aug)\n",
    "plt.xlabel('Drop Out Value')\n",
    "plt.ylabel('AUC')\n",
    "plt.xlim([0, 1])\n",
    "plt.ylim([0.4, 0.6])\n",
    "plt.title('With Data Augmentation')\n",
    "\n",
    "plt.show()"
   ]
  },
  {
   "cell_type": "code",
   "execution_count": 20,
   "id": "70ce1e2a",
   "metadata": {},
   "outputs": [
    {
     "name": "stdout",
     "output_type": "stream",
     "text": [
      "Best AUC with Data_Aug: 0.5830010771751404 at Drop_out = 0.5\n",
      "Best AUC No Data_Aug: 0.5881180763244629 at Drop_out = 0.9\n"
     ]
    }
   ],
   "source": [
    "print(f\"Best AUC with Data_Aug: {np.max(auc_with_data_aug)} at Drop_out = {round(drop_out_values[np.argmax(auc_with_data_aug)], 2)}\" )\n",
    "print(f\"Best AUC No Data_Aug: {np.max(auc_list)} at Drop_out = {drop_out_values[np.argmax(auc_list)]}\")"
   ]
  }
 ],
 "metadata": {
  "kernelspec": {
   "display_name": "sp",
   "language": "python",
   "name": "sp"
  },
  "language_info": {
   "codemirror_mode": {
    "name": "ipython",
    "version": 3
   },
   "file_extension": ".py",
   "mimetype": "text/x-python",
   "name": "python",
   "nbconvert_exporter": "python",
   "pygments_lexer": "ipython3",
   "version": "3.9.15"
  }
 },
 "nbformat": 4,
 "nbformat_minor": 5
}
